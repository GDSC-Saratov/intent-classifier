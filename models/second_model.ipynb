{
  "nbformat": 4,
  "nbformat_minor": 0,
  "metadata": {
    "colab": {
      "name": "second_model.ipynb",
      "provenance": [],
      "collapsed_sections": [
        "TpZaENYk3MuN",
        "6vOLVkbNQeXW",
        "PG18kmlO3WHP",
        "Ces829tV5TSJ"
      ]
    },
    "kernelspec": {
      "name": "python3",
      "display_name": "Python 3"
    },
    "language_info": {
      "name": "python"
    },
    "gpuClass": "standard",
    "accelerator": "GPU"
  },
  "cells": [
    {
      "cell_type": "markdown",
      "source": [
        "# Install and import libs"
      ],
      "metadata": {
        "id": "TpZaENYk3MuN"
      }
    },
    {
      "cell_type": "code",
      "execution_count": 276,
      "metadata": {
        "id": "-yZFfoImvZMs"
      },
      "outputs": [],
      "source": [
        "%%capture\n",
        "!pip install transformers"
      ]
    },
    {
      "cell_type": "code",
      "source": [
        "import torch\n",
        "from transformers import BertModel, BertConfig, BertTokenizer, get_linear_schedule_with_warmup\n",
        "\n",
        "import pandas as pd\n",
        "from sklearn.model_selection import train_test_split\n",
        "\n",
        "from typing import Any, Union, Tuple, Dict"
      ],
      "metadata": {
        "id": "4gbiQgKsv7C0"
      },
      "execution_count": 277,
      "outputs": []
    },
    {
      "cell_type": "markdown",
      "source": [
        "# Support funcs"
      ],
      "metadata": {
        "id": "6vOLVkbNQeXW"
      }
    },
    {
      "cell_type": "code",
      "source": [
        "def get_formal_label(label: int, num_labels: int) -> list:\n",
        "  ''' Ex. with label=3 and num_labels=6 func return [0, 0, 1, 0, 0, 0] '''\n",
        "  formal_label = [0]*num_labels\n",
        "  formal_label[label] = 1\n",
        "  return formal_label"
      ],
      "metadata": {
        "id": "7b3Bt5YsQgjL"
      },
      "execution_count": 278,
      "outputs": []
    },
    {
      "cell_type": "markdown",
      "source": [
        "# Classes"
      ],
      "metadata": {
        "id": "Uxstn5JIufYi"
      }
    },
    {
      "cell_type": "code",
      "source": [
        "class Dataset(torch.utils.data.Dataset):\n",
        "  def __init__(self, seqs: list, labels: list, tokenizer: object, num_labels: int):\n",
        "    self.tokenized = [tokenizer(seq, max_length=512, padding='max_length') for seq in seqs]\n",
        "    self.formal_labels = [get_formal_label(label, num_labels=num_labels) for label in labels]\n",
        "\n",
        "  def __getitem__(self, i) -> Dict[str, torch.tensor]:\n",
        "    tokenized = {k: torch.tensor(v) for k, v in self.tokenized[i].items()}\n",
        "    formal_label = torch.tensor(self.formal_labels[i]).float() # to float() need for model.train()\n",
        "    return tokenized, formal_label\n",
        "  \n",
        "  def __len__(self) -> int:\n",
        "    return len(self.tokenized)"
      ],
      "metadata": {
        "id": "D2_VMLxO6dCC"
      },
      "execution_count": 279,
      "outputs": []
    },
    {
      "cell_type": "code",
      "source": [
        "class IntentClassifier(torch.nn.Module):\n",
        "  def __init__(self, pretrained_bert_model: str, num_labels: int, load_bert_model_state_dict: bool = True):\n",
        "    super(IntentClassifier, self).__init__()\n",
        "    self.pretrained_bert_model = pretrained_bert_model\n",
        "    self.num_labels = num_labels\n",
        "\n",
        "    # layers\n",
        "    if load_bert_model_state_dict:\n",
        "      self.bert = BertModel.from_pretrained(self.pretrained_bert_model)\n",
        "    else:\n",
        "      self.bert = BertModel(BertConfig.from_pretrained(pretrained_bert_model))\n",
        "    ## set layers bert untrained\n",
        "    for param in self.bert.parameters():\n",
        "      param.requires_grad = False\n",
        "    ##classification layers need define\n",
        "    self.dropout = torch.nn.Dropout(p=0.1, inplace=False)\n",
        "    self.classifier = torch.nn.Linear(in_features=768, out_features=self.num_labels, bias=True)\n",
        "\n",
        "    self.tokenizer = BertTokenizer.from_pretrained(self.pretrained_bert_model)\n",
        "\n",
        "    if torch.cuda.is_available():\n",
        "      self.device = torch.device('cuda:0')\n",
        "    else:\n",
        "      self.device = torch.device('cpu')\n",
        "  \n",
        "  \n",
        "  def forward(self, input_ids: torch.tensor, attention_mask: torch.tensor, token_type_ids: torch.tensor) -> torch.tensor:\n",
        "    bert_outputs = self.bert(input_ids=input_ids, attention_mask=attention_mask, token_type_ids=token_type_ids)\n",
        "    pooled_output = self.dropout(bert_outputs[1])\n",
        "    logits = self.classifier(pooled_output)\n",
        "    return logits\n",
        "\n",
        "  \n",
        "  def train(self, dataloader: torch.utils.data.DataLoader, epochs: int):\n",
        "\n",
        "    criterion = torch.nn.BCEWithLogitsLoss().to(self.device)\n",
        "    optimizer = torch.optim.AdamW(self.parameters())\n",
        "\n",
        "    total_steps = len(train_dataloader) * epochs\n",
        "    scheduler = get_linear_schedule_with_warmup(optimizer, num_warmup_steps = 0, num_training_steps = total_steps)\n",
        "\n",
        "    # for statistics\n",
        "    train_loss, train_loss_history = 0.0, list()\n",
        "\n",
        "    for epoch in range(epochs):\n",
        "      for i, batch in enumerate(train_dataloader):\n",
        "        input_ids = batch[0]['input_ids'].to(self.device)\n",
        "        attention_mask = batch[0]['attention_mask'].to(self.device)\n",
        "        token_type_ids = batch[0]['token_type_ids'].to(self.device)\n",
        "        formal_labels = batch[1].to(self.device)\n",
        "\n",
        "        self.zero_grad()\n",
        "\n",
        "        logits = self.forward(input_ids, attention_mask, token_type_ids)\n",
        "\n",
        "        loss = criterion(logits, formal_labels)\n",
        "        loss.backward()\n",
        "\n",
        "        # for statistic\n",
        "        train_loss += loss.item()\n",
        "        if i % 4 == 3:\n",
        "            print(f'[{epoch + 1}, {i + 1:5d}] loss: {train_loss / 4:.3f}')\n",
        "            train_loss_history.append(train_loss)\n",
        "            train_loss = 0.0\n",
        "        \n",
        "        torch.nn.utils.clip_grad_norm_(self.parameters(), 1.0)\n",
        "\n",
        "        optimizer.step()\n",
        "        scheduler.step()\n",
        "    \n",
        "    print(\"Training is finish.\")\n",
        "    return train_loss_history\n",
        "  \n",
        "\n",
        "  def load(self, fp: str):\n",
        "  \tself.load_state_dict(torch.load(fp))\n",
        "\n",
        "  \n",
        "  def predict(self, text: str) -> Dict[str, Union[int, float]]:\n",
        "    tokenized = self.tokenizer(text, return_tensors='pt').to(self.device)\n",
        "    logits = self.forward(tokenized['input_ids'], tokenized['attention_mask'], tokenized['token_type_ids'])\n",
        "\n",
        "    max_prob_label, max_prob = -1, -1\n",
        "    for label, prob in enumerate(logits[0], 0):\n",
        "      prob = prob.item()\n",
        "      if prob > max_prob:\n",
        "        max_prob_label, max_prob = label, prob\n",
        "    \n",
        "    if max_prob < 0.51:\n",
        "      max_prob_label, max_prob = 6, 1.0 - torch.mean(logits[0]).item()\n",
        "\n",
        "    print(logits) # for debug\n",
        "    return {'label': max_prob_label, 'prob': round(max_prob, 2)}"
      ],
      "metadata": {
        "id": "N8TCm0BlwOFn"
      },
      "execution_count": 282,
      "outputs": []
    },
    {
      "cell_type": "markdown",
      "source": [
        "# Model init"
      ],
      "metadata": {
        "id": "PG18kmlO3WHP"
      }
    },
    {
      "cell_type": "code",
      "source": [
        "%%capture\n",
        "model = IntentClassifier('bert-base-multilingual-uncased', num_labels=6)\n",
        "model.to(model.device)"
      ],
      "metadata": {
        "colab": {
          "base_uri": "https://localhost:8080/"
        },
        "id": "wH02_nXhw7kc",
        "outputId": "a7411bda-0abb-49e8-dc23-d7a9584e72a2"
      },
      "execution_count": 283,
      "outputs": [
        {
          "output_type": "stream",
          "name": "stderr",
          "text": [
            "Some weights of the model checkpoint at bert-base-multilingual-uncased were not used when initializing BertModel: ['cls.predictions.transform.LayerNorm.weight', 'cls.predictions.transform.dense.weight', 'cls.seq_relationship.bias', 'cls.predictions.transform.dense.bias', 'cls.predictions.transform.LayerNorm.bias', 'cls.predictions.bias', 'cls.seq_relationship.weight', 'cls.predictions.decoder.weight']\n",
            "- This IS expected if you are initializing BertModel from the checkpoint of a model trained on another task or with another architecture (e.g. initializing a BertForSequenceClassification model from a BertForPreTraining model).\n",
            "- This IS NOT expected if you are initializing BertModel from the checkpoint of a model that you expect to be exactly identical (initializing a BertForSequenceClassification model from a BertForSequenceClassification model).\n"
          ]
        }
      ]
    },
    {
      "cell_type": "markdown",
      "source": [
        "# Datasets init"
      ],
      "metadata": {
        "id": "Ces829tV5TSJ"
      }
    },
    {
      "cell_type": "code",
      "source": [
        "df = pd.read_csv('data/small_dataset.csv')\n",
        "df.tail()"
      ],
      "metadata": {
        "colab": {
          "base_uri": "https://localhost:8080/",
          "height": 206
        },
        "id": "z1U_3gVv5VCQ",
        "outputId": "7154b6b1-b82b-4077-f136-2dcdc92d8196"
      },
      "execution_count": null,
      "outputs": [
        {
          "output_type": "execute_result",
          "data": {
            "text/plain": [
              "                                            sequence              intent  \\\n",
              "789           есть ли такая вещь, как хорошая смерть  philosophical_talk   \n",
              "790  разум или мудрость, что важнее для лучшего мира  philosophical_talk   \n",
              "791     являются ли убеждения и суеверия одинаковыми  philosophical_talk   \n",
              "792         почему мы делаем то, что нам не нравится  philosophical_talk   \n",
              "793                 у атеистов есть собственные боги  philosophical_talk   \n",
              "\n",
              "     label  \n",
              "789      5  \n",
              "790      5  \n",
              "791      5  \n",
              "792      5  \n",
              "793      5  "
            ],
            "text/html": [
              "\n",
              "  <div id=\"df-3cb1e3ac-51a6-492b-9f60-2acd0e020e0a\">\n",
              "    <div class=\"colab-df-container\">\n",
              "      <div>\n",
              "<style scoped>\n",
              "    .dataframe tbody tr th:only-of-type {\n",
              "        vertical-align: middle;\n",
              "    }\n",
              "\n",
              "    .dataframe tbody tr th {\n",
              "        vertical-align: top;\n",
              "    }\n",
              "\n",
              "    .dataframe thead th {\n",
              "        text-align: right;\n",
              "    }\n",
              "</style>\n",
              "<table border=\"1\" class=\"dataframe\">\n",
              "  <thead>\n",
              "    <tr style=\"text-align: right;\">\n",
              "      <th></th>\n",
              "      <th>sequence</th>\n",
              "      <th>intent</th>\n",
              "      <th>label</th>\n",
              "    </tr>\n",
              "  </thead>\n",
              "  <tbody>\n",
              "    <tr>\n",
              "      <th>789</th>\n",
              "      <td>есть ли такая вещь, как хорошая смерть</td>\n",
              "      <td>philosophical_talk</td>\n",
              "      <td>5</td>\n",
              "    </tr>\n",
              "    <tr>\n",
              "      <th>790</th>\n",
              "      <td>разум или мудрость, что важнее для лучшего мира</td>\n",
              "      <td>philosophical_talk</td>\n",
              "      <td>5</td>\n",
              "    </tr>\n",
              "    <tr>\n",
              "      <th>791</th>\n",
              "      <td>являются ли убеждения и суеверия одинаковыми</td>\n",
              "      <td>philosophical_talk</td>\n",
              "      <td>5</td>\n",
              "    </tr>\n",
              "    <tr>\n",
              "      <th>792</th>\n",
              "      <td>почему мы делаем то, что нам не нравится</td>\n",
              "      <td>philosophical_talk</td>\n",
              "      <td>5</td>\n",
              "    </tr>\n",
              "    <tr>\n",
              "      <th>793</th>\n",
              "      <td>у атеистов есть собственные боги</td>\n",
              "      <td>philosophical_talk</td>\n",
              "      <td>5</td>\n",
              "    </tr>\n",
              "  </tbody>\n",
              "</table>\n",
              "</div>\n",
              "      <button class=\"colab-df-convert\" onclick=\"convertToInteractive('df-3cb1e3ac-51a6-492b-9f60-2acd0e020e0a')\"\n",
              "              title=\"Convert this dataframe to an interactive table.\"\n",
              "              style=\"display:none;\">\n",
              "        \n",
              "  <svg xmlns=\"http://www.w3.org/2000/svg\" height=\"24px\"viewBox=\"0 0 24 24\"\n",
              "       width=\"24px\">\n",
              "    <path d=\"M0 0h24v24H0V0z\" fill=\"none\"/>\n",
              "    <path d=\"M18.56 5.44l.94 2.06.94-2.06 2.06-.94-2.06-.94-.94-2.06-.94 2.06-2.06.94zm-11 1L8.5 8.5l.94-2.06 2.06-.94-2.06-.94L8.5 2.5l-.94 2.06-2.06.94zm10 10l.94 2.06.94-2.06 2.06-.94-2.06-.94-.94-2.06-.94 2.06-2.06.94z\"/><path d=\"M17.41 7.96l-1.37-1.37c-.4-.4-.92-.59-1.43-.59-.52 0-1.04.2-1.43.59L10.3 9.45l-7.72 7.72c-.78.78-.78 2.05 0 2.83L4 21.41c.39.39.9.59 1.41.59.51 0 1.02-.2 1.41-.59l7.78-7.78 2.81-2.81c.8-.78.8-2.07 0-2.86zM5.41 20L4 18.59l7.72-7.72 1.47 1.35L5.41 20z\"/>\n",
              "  </svg>\n",
              "      </button>\n",
              "      \n",
              "  <style>\n",
              "    .colab-df-container {\n",
              "      display:flex;\n",
              "      flex-wrap:wrap;\n",
              "      gap: 12px;\n",
              "    }\n",
              "\n",
              "    .colab-df-convert {\n",
              "      background-color: #E8F0FE;\n",
              "      border: none;\n",
              "      border-radius: 50%;\n",
              "      cursor: pointer;\n",
              "      display: none;\n",
              "      fill: #1967D2;\n",
              "      height: 32px;\n",
              "      padding: 0 0 0 0;\n",
              "      width: 32px;\n",
              "    }\n",
              "\n",
              "    .colab-df-convert:hover {\n",
              "      background-color: #E2EBFA;\n",
              "      box-shadow: 0px 1px 2px rgba(60, 64, 67, 0.3), 0px 1px 3px 1px rgba(60, 64, 67, 0.15);\n",
              "      fill: #174EA6;\n",
              "    }\n",
              "\n",
              "    [theme=dark] .colab-df-convert {\n",
              "      background-color: #3B4455;\n",
              "      fill: #D2E3FC;\n",
              "    }\n",
              "\n",
              "    [theme=dark] .colab-df-convert:hover {\n",
              "      background-color: #434B5C;\n",
              "      box-shadow: 0px 1px 3px 1px rgba(0, 0, 0, 0.15);\n",
              "      filter: drop-shadow(0px 1px 2px rgba(0, 0, 0, 0.3));\n",
              "      fill: #FFFFFF;\n",
              "    }\n",
              "  </style>\n",
              "\n",
              "      <script>\n",
              "        const buttonEl =\n",
              "          document.querySelector('#df-3cb1e3ac-51a6-492b-9f60-2acd0e020e0a button.colab-df-convert');\n",
              "        buttonEl.style.display =\n",
              "          google.colab.kernel.accessAllowed ? 'block' : 'none';\n",
              "\n",
              "        async function convertToInteractive(key) {\n",
              "          const element = document.querySelector('#df-3cb1e3ac-51a6-492b-9f60-2acd0e020e0a');\n",
              "          const dataTable =\n",
              "            await google.colab.kernel.invokeFunction('convertToInteractive',\n",
              "                                                     [key], {});\n",
              "          if (!dataTable) return;\n",
              "\n",
              "          const docLinkHtml = 'Like what you see? Visit the ' +\n",
              "            '<a target=\"_blank\" href=https://colab.research.google.com/notebooks/data_table.ipynb>data table notebook</a>'\n",
              "            + ' to learn more about interactive tables.';\n",
              "          element.innerHTML = '';\n",
              "          dataTable['output_type'] = 'display_data';\n",
              "          await google.colab.output.renderOutput(dataTable, element);\n",
              "          const docLink = document.createElement('div');\n",
              "          docLink.innerHTML = docLinkHtml;\n",
              "          element.appendChild(docLink);\n",
              "        }\n",
              "      </script>\n",
              "    </div>\n",
              "  </div>\n",
              "  "
            ]
          },
          "metadata": {},
          "execution_count": 7
        }
      ]
    },
    {
      "cell_type": "code",
      "source": [
        "train_seqs, test_seqs, train_labels, test_labels = train_test_split(df['sequence'].tolist(), df['label'].tolist(), test_size=0.1)"
      ],
      "metadata": {
        "id": "jeods5t95p_S"
      },
      "execution_count": null,
      "outputs": []
    },
    {
      "cell_type": "code",
      "source": [
        "train_dataset = Dataset(train_seqs, train_labels, tokenizer=model.tokenizer, num_labels=6)\n",
        "test_dataset = Dataset(test_seqs, test_labels, tokenizer=model.tokenizer, num_labels=6)"
      ],
      "metadata": {
        "id": "DAvZjcMr9i68"
      },
      "execution_count": null,
      "outputs": []
    },
    {
      "cell_type": "code",
      "source": [
        "# batch_size=16 recommended by bert authors (https://arxiv.org/pdf/1810.04805.pdf)\n",
        "train_dataloader = torch.utils.data.DataLoader(train_dataset, batch_size=16)\n",
        "test_dataloader = torch.utils.data.DataLoader(test_dataset, batch_size=16)"
      ],
      "metadata": {
        "id": "x-EV64NvUiwI"
      },
      "execution_count": 286,
      "outputs": []
    },
    {
      "cell_type": "code",
      "source": [
        "model.train(train_dataloader, epochs=3)"
      ],
      "metadata": {
        "id": "AtgIDR1QGAam"
      },
      "execution_count": null,
      "outputs": []
    }
  ]
}