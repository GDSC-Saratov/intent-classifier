{
  "nbformat": 4,
  "nbformat_minor": 0,
  "metadata": {
    "colab": {
      "name": "second_model.ipynb",
      "provenance": [],
      "collapsed_sections": [
        "TpZaENYk3MuN",
        "6vOLVkbNQeXW",
        "PG18kmlO3WHP",
        "Ces829tV5TSJ"
      ]
    },
    "kernelspec": {
      "name": "python3",
      "display_name": "Python 3"
    },
    "language_info": {
      "name": "python"
    },
    "gpuClass": "standard"
  },
  "cells": [
    {
      "cell_type": "markdown",
      "source": [
        "# Install and import libs"
      ],
      "metadata": {
        "id": "TpZaENYk3MuN"
      }
    },
    {
      "cell_type": "code",
      "execution_count": 1,
      "metadata": {
        "id": "-yZFfoImvZMs"
      },
      "outputs": [],
      "source": [
        "%%capture\n",
        "!pip install transformers"
      ]
    },
    {
      "cell_type": "code",
      "source": [
        "import torch\n",
        "from transformers import BertModel, BertConfig, BertTokenizer\n",
        "\n",
        "from typing import Any, Union, Tuple, Dict\n",
        "\n",
        "import pandas as pd\n",
        "from sklearn.model_selection import train_test_split"
      ],
      "metadata": {
        "id": "4gbiQgKsv7C0"
      },
      "execution_count": 2,
      "outputs": []
    },
    {
      "cell_type": "markdown",
      "source": [
        "# Support funcs"
      ],
      "metadata": {
        "id": "6vOLVkbNQeXW"
      }
    },
    {
      "cell_type": "code",
      "source": [
        "def get_formal_label(label: int, num_labels: int, dtype: Any = int) -> torch.tensor:\n",
        "  formal_label = [0]*num_labels\n",
        "  formal_label[label] = 1\n",
        "  return torch.tensor([formal_label], dtype=dtype)"
      ],
      "metadata": {
        "id": "7b3Bt5YsQgjL"
      },
      "execution_count": 3,
      "outputs": []
    },
    {
      "cell_type": "markdown",
      "source": [
        "# Classes"
      ],
      "metadata": {
        "id": "Uxstn5JIufYi"
      }
    },
    {
      "cell_type": "code",
      "source": [
        "class Dataset(torch.utils.data.Dataset):\n",
        "  def __init__(self, seqs: list, labels: list, tokenizer: object, num_labels: int):\n",
        "    self.tokenized = [tokenizer.tokenize(seq) for seq in seqs]\n",
        "    self.formal_labels = [get_formal_label(label, num_labels=num_labels) for label in labels]\n",
        "\n",
        "  def __getitem__(self, i) -> Tuple[Dict[str, torch.tensor], torch.tensor]:\n",
        "    return self.tokenized[i], self.formal_labels[i]\n",
        "  \n",
        "  def __len__(self) -> int:\n",
        "    return len(self.tokenized)"
      ],
      "metadata": {
        "id": "D2_VMLxO6dCC"
      },
      "execution_count": 4,
      "outputs": []
    },
    {
      "cell_type": "code",
      "source": [
        "class IntentClassifier(torch.nn.Module):\n",
        "  def __init__(self, pretrained_bert_model: str, num_labels: int, load_bert_model_state_dict: bool = True):\n",
        "    super(IntentClassifier, self).__init__()\n",
        "    self.pretrained_bert_model = pretrained_bert_model\n",
        "    self.num_labels = num_labels\n",
        "\n",
        "    # layers\n",
        "    if load_bert_model_state_dict:\n",
        "      self.bert = BertModel.from_pretrained(self.pretrained_bert_model)\n",
        "    else:\n",
        "      self.bert = BertModel(BertConfig.from_pretrained(pretrained_bert_model))\n",
        "    #classification layers need define\n",
        "    self.dropout = torch.nn.Dropout(p=0.1, inplace=False)\n",
        "    self.classifier = torch.nn.Linear(in_features=768, out_features=self.num_labels, bias=True)\n",
        "\n",
        "    self.tokenizer = BertTokenizer.from_pretrained(self.pretrained_bert_model)\n",
        "\n",
        "    if torch.cuda.is_available():\n",
        "      self.device = torch.device('cuda:0')\n",
        "    else:\n",
        "      self.device = torch.device('cpu')\n",
        "  \n",
        "  \n",
        "  def forward(self, input_ids: torch.tensor, token_type_ids: torch.tensor, attention_mask: torch.tensor) -> torch.tensor:\n",
        "    pooled_output = self.bert(input_ids=input_ids, token_type_ids=token_type_ids, attention_mask=attention_mask)\n",
        "    pooled_output = self.dropout(pooled_output[1])\n",
        "    logits = self.classifier(pooled_output)\n",
        "    return logits\n",
        "\n",
        "  \n",
        "  def train(self, dataset: Dataset, epochs: int):\n",
        "    criterion = torch.nn.CrossEntropyLoss().to(self.device) #need define\n",
        "    optimizer = torch.optim.AdamW(self.parameters()) #need define\n",
        "\n",
        "    for epoch in range(epochs):\n",
        "\n",
        "      for i, data in enumerate(dataset, 0):\n",
        "        tokenized, formal_label = data\n",
        "        \n",
        "        optimizer.zero_grad()\n",
        "\n",
        "        logits = self.forward(tokenized['input_ids'], tokenized['token_type_ids'], tokenized['attention_mask'])\n",
        "        loss = criterion(logits, formal_label.float().to(self.device))\n",
        "        loss.backward()\n",
        "        optimizer.step()\n",
        "      \n",
        "    print(\"Training if finish\")\n",
        "  \n",
        "\n",
        "  def load(self, fp: str):\n",
        "  \tself.load_state_dict(torch.load(fp))\n",
        "\n",
        "  \n",
        "  def predict(self, text: str) -> Dict[str, Union[int, float]]:\n",
        "    tokenized = self.tokenizer(text, return_tensors='pt')\n",
        "    logits = self.forward(tokenized['input_ids'], tokenized['token_type_ids'], tokenized['attention_mask'])\n",
        "\n",
        "    max_prob_label, max_prob = -1, -1\n",
        "    for label, prob in enumerate(logits[0], 0):\n",
        "      prob = prob.item()\n",
        "      if prob > max_prob:\n",
        "        max_prob_label, max_prob = label, prob\n",
        "    \n",
        "    if max_prob < 0.51:\n",
        "      max_prob_label, max_prob = 6, 1.0 - torch.mean(logits[0]).item()\n",
        "\n",
        "    return {'label': max_prob_label, 'prob': round(max_prob, 2)}"
      ],
      "metadata": {
        "id": "N8TCm0BlwOFn"
      },
      "execution_count": 5,
      "outputs": []
    },
    {
      "cell_type": "markdown",
      "source": [
        "# Model init"
      ],
      "metadata": {
        "id": "PG18kmlO3WHP"
      }
    },
    {
      "cell_type": "code",
      "source": [
        "%%capture\n",
        "model = IntentClassifier('bert-base-multilingual-cased', num_labels=6)\n",
        "model.to(model.device)"
      ],
      "metadata": {
        "colab": {
          "base_uri": "https://localhost:8080/",
          "height": 0
        },
        "id": "wH02_nXhw7kc",
        "outputId": "761de26d-0f34-4077-f7a2-b8f2e1b00f42"
      },
      "execution_count": 6,
      "outputs": [
        {
          "output_type": "stream",
          "name": "stderr",
          "text": [
            "Some weights of the model checkpoint at bert-base-multilingual-cased were not used when initializing BertModel: ['cls.predictions.transform.dense.bias', 'cls.predictions.bias', 'cls.predictions.decoder.weight', 'cls.predictions.transform.LayerNorm.weight', 'cls.seq_relationship.bias', 'cls.predictions.transform.LayerNorm.bias', 'cls.predictions.transform.dense.weight', 'cls.seq_relationship.weight']\n",
            "- This IS expected if you are initializing BertModel from the checkpoint of a model trained on another task or with another architecture (e.g. initializing a BertForSequenceClassification model from a BertForPreTraining model).\n",
            "- This IS NOT expected if you are initializing BertModel from the checkpoint of a model that you expect to be exactly identical (initializing a BertForSequenceClassification model from a BertForSequenceClassification model).\n"
          ]
        }
      ]
    },
    {
      "cell_type": "markdown",
      "source": [
        "# Datasets init"
      ],
      "metadata": {
        "id": "Ces829tV5TSJ"
      }
    },
    {
      "cell_type": "code",
      "source": [
        "df = pd.read_csv('data/small_dataset.csv')\n",
        "df.tail()"
      ],
      "metadata": {
        "colab": {
          "base_uri": "https://localhost:8080/",
          "height": 0
        },
        "id": "z1U_3gVv5VCQ",
        "outputId": "1bafc21d-3cdf-47eb-a703-e64c463fed3f"
      },
      "execution_count": 7,
      "outputs": [
        {
          "output_type": "execute_result",
          "data": {
            "text/plain": [
              "                                            sequence              intent  \\\n",
              "789           есть ли такая вещь, как хорошая смерть  philosophical_talk   \n",
              "790  разум или мудрость, что важнее для лучшего мира  philosophical_talk   \n",
              "791     являются ли убеждения и суеверия одинаковыми  philosophical_talk   \n",
              "792         почему мы делаем то, что нам не нравится  philosophical_talk   \n",
              "793                 у атеистов есть собственные боги  philosophical_talk   \n",
              "\n",
              "     label  \n",
              "789      5  \n",
              "790      5  \n",
              "791      5  \n",
              "792      5  \n",
              "793      5  "
            ],
            "text/html": [
              "\n",
              "  <div id=\"df-895fa3dd-689c-465d-bd59-b0fac633cbd6\">\n",
              "    <div class=\"colab-df-container\">\n",
              "      <div>\n",
              "<style scoped>\n",
              "    .dataframe tbody tr th:only-of-type {\n",
              "        vertical-align: middle;\n",
              "    }\n",
              "\n",
              "    .dataframe tbody tr th {\n",
              "        vertical-align: top;\n",
              "    }\n",
              "\n",
              "    .dataframe thead th {\n",
              "        text-align: right;\n",
              "    }\n",
              "</style>\n",
              "<table border=\"1\" class=\"dataframe\">\n",
              "  <thead>\n",
              "    <tr style=\"text-align: right;\">\n",
              "      <th></th>\n",
              "      <th>sequence</th>\n",
              "      <th>intent</th>\n",
              "      <th>label</th>\n",
              "    </tr>\n",
              "  </thead>\n",
              "  <tbody>\n",
              "    <tr>\n",
              "      <th>789</th>\n",
              "      <td>есть ли такая вещь, как хорошая смерть</td>\n",
              "      <td>philosophical_talk</td>\n",
              "      <td>5</td>\n",
              "    </tr>\n",
              "    <tr>\n",
              "      <th>790</th>\n",
              "      <td>разум или мудрость, что важнее для лучшего мира</td>\n",
              "      <td>philosophical_talk</td>\n",
              "      <td>5</td>\n",
              "    </tr>\n",
              "    <tr>\n",
              "      <th>791</th>\n",
              "      <td>являются ли убеждения и суеверия одинаковыми</td>\n",
              "      <td>philosophical_talk</td>\n",
              "      <td>5</td>\n",
              "    </tr>\n",
              "    <tr>\n",
              "      <th>792</th>\n",
              "      <td>почему мы делаем то, что нам не нравится</td>\n",
              "      <td>philosophical_talk</td>\n",
              "      <td>5</td>\n",
              "    </tr>\n",
              "    <tr>\n",
              "      <th>793</th>\n",
              "      <td>у атеистов есть собственные боги</td>\n",
              "      <td>philosophical_talk</td>\n",
              "      <td>5</td>\n",
              "    </tr>\n",
              "  </tbody>\n",
              "</table>\n",
              "</div>\n",
              "      <button class=\"colab-df-convert\" onclick=\"convertToInteractive('df-895fa3dd-689c-465d-bd59-b0fac633cbd6')\"\n",
              "              title=\"Convert this dataframe to an interactive table.\"\n",
              "              style=\"display:none;\">\n",
              "        \n",
              "  <svg xmlns=\"http://www.w3.org/2000/svg\" height=\"24px\"viewBox=\"0 0 24 24\"\n",
              "       width=\"24px\">\n",
              "    <path d=\"M0 0h24v24H0V0z\" fill=\"none\"/>\n",
              "    <path d=\"M18.56 5.44l.94 2.06.94-2.06 2.06-.94-2.06-.94-.94-2.06-.94 2.06-2.06.94zm-11 1L8.5 8.5l.94-2.06 2.06-.94-2.06-.94L8.5 2.5l-.94 2.06-2.06.94zm10 10l.94 2.06.94-2.06 2.06-.94-2.06-.94-.94-2.06-.94 2.06-2.06.94z\"/><path d=\"M17.41 7.96l-1.37-1.37c-.4-.4-.92-.59-1.43-.59-.52 0-1.04.2-1.43.59L10.3 9.45l-7.72 7.72c-.78.78-.78 2.05 0 2.83L4 21.41c.39.39.9.59 1.41.59.51 0 1.02-.2 1.41-.59l7.78-7.78 2.81-2.81c.8-.78.8-2.07 0-2.86zM5.41 20L4 18.59l7.72-7.72 1.47 1.35L5.41 20z\"/>\n",
              "  </svg>\n",
              "      </button>\n",
              "      \n",
              "  <style>\n",
              "    .colab-df-container {\n",
              "      display:flex;\n",
              "      flex-wrap:wrap;\n",
              "      gap: 12px;\n",
              "    }\n",
              "\n",
              "    .colab-df-convert {\n",
              "      background-color: #E8F0FE;\n",
              "      border: none;\n",
              "      border-radius: 50%;\n",
              "      cursor: pointer;\n",
              "      display: none;\n",
              "      fill: #1967D2;\n",
              "      height: 32px;\n",
              "      padding: 0 0 0 0;\n",
              "      width: 32px;\n",
              "    }\n",
              "\n",
              "    .colab-df-convert:hover {\n",
              "      background-color: #E2EBFA;\n",
              "      box-shadow: 0px 1px 2px rgba(60, 64, 67, 0.3), 0px 1px 3px 1px rgba(60, 64, 67, 0.15);\n",
              "      fill: #174EA6;\n",
              "    }\n",
              "\n",
              "    [theme=dark] .colab-df-convert {\n",
              "      background-color: #3B4455;\n",
              "      fill: #D2E3FC;\n",
              "    }\n",
              "\n",
              "    [theme=dark] .colab-df-convert:hover {\n",
              "      background-color: #434B5C;\n",
              "      box-shadow: 0px 1px 3px 1px rgba(0, 0, 0, 0.15);\n",
              "      filter: drop-shadow(0px 1px 2px rgba(0, 0, 0, 0.3));\n",
              "      fill: #FFFFFF;\n",
              "    }\n",
              "  </style>\n",
              "\n",
              "      <script>\n",
              "        const buttonEl =\n",
              "          document.querySelector('#df-895fa3dd-689c-465d-bd59-b0fac633cbd6 button.colab-df-convert');\n",
              "        buttonEl.style.display =\n",
              "          google.colab.kernel.accessAllowed ? 'block' : 'none';\n",
              "\n",
              "        async function convertToInteractive(key) {\n",
              "          const element = document.querySelector('#df-895fa3dd-689c-465d-bd59-b0fac633cbd6');\n",
              "          const dataTable =\n",
              "            await google.colab.kernel.invokeFunction('convertToInteractive',\n",
              "                                                     [key], {});\n",
              "          if (!dataTable) return;\n",
              "\n",
              "          const docLinkHtml = 'Like what you see? Visit the ' +\n",
              "            '<a target=\"_blank\" href=https://colab.research.google.com/notebooks/data_table.ipynb>data table notebook</a>'\n",
              "            + ' to learn more about interactive tables.';\n",
              "          element.innerHTML = '';\n",
              "          dataTable['output_type'] = 'display_data';\n",
              "          await google.colab.output.renderOutput(dataTable, element);\n",
              "          const docLink = document.createElement('div');\n",
              "          docLink.innerHTML = docLinkHtml;\n",
              "          element.appendChild(docLink);\n",
              "        }\n",
              "      </script>\n",
              "    </div>\n",
              "  </div>\n",
              "  "
            ]
          },
          "metadata": {},
          "execution_count": 7
        }
      ]
    },
    {
      "cell_type": "code",
      "source": [
        "train_seqs, test_seqs, train_labels, test_labels = train_test_split(df['sequence'].tolist(), df['label'].tolist(), test_size=0.1)"
      ],
      "metadata": {
        "id": "jeods5t95p_S"
      },
      "execution_count": 8,
      "outputs": []
    },
    {
      "cell_type": "code",
      "source": [
        "train_dataset = Dataset(train_seqs, train_labels, tokenizer=model.tokenizer, num_labels=6)\n",
        "test_dataset = Dataset(test_seqs, test_labels, tokenizer=model.tokenizer, num_labels=6)"
      ],
      "metadata": {
        "id": "DAvZjcMr9i68"
      },
      "execution_count": 9,
      "outputs": []
    },
    {
      "cell_type": "markdown",
      "source": [
        "# Test"
      ],
      "metadata": {
        "id": "hfLn8r_FxmGG"
      }
    },
    {
      "cell_type": "code",
      "source": [
        "model.predict(\"Быть или не быть?\")"
      ],
      "metadata": {
        "colab": {
          "base_uri": "https://localhost:8080/"
        },
        "id": "gMS1l6EKw9Pt",
        "outputId": "e0bf362a-bbee-4994-b09c-41ceb6d63678"
      },
      "execution_count": 11,
      "outputs": [
        {
          "output_type": "execute_result",
          "data": {
            "text/plain": [
              "{'label': 6, 'prob': 0.95}"
            ]
          },
          "metadata": {},
          "execution_count": 11
        }
      ]
    }
  ]
}