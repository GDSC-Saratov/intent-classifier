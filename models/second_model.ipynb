{
  "cells": [
    {
      "cell_type": "markdown",
      "metadata": {
        "id": "TpZaENYk3MuN"
      },
      "source": [
        "# Install and import libs"
      ]
    },
    {
      "cell_type": "code",
      "execution_count": null,
      "metadata": {
        "id": "-yZFfoImvZMs"
      },
      "outputs": [],
      "source": [
        "%%capture\n",
        "!pip install transformers"
      ]
    },
    {
      "cell_type": "code",
      "execution_count": null,
      "metadata": {
        "id": "4gbiQgKsv7C0"
      },
      "outputs": [],
      "source": [
        "import torch\n",
        "from transformers import BertForSequenceClassification, BertConfig, BertTokenizer, get_linear_schedule_with_warmup\n",
        "from transformers.modeling_outputs import SequenceClassifierOutput\n",
        "\n",
        "import pandas as pd\n",
        "from sklearn.model_selection import train_test_split\n",
        "\n",
        "import matplotlib.pyplot as plt\n",
        "\n",
        "from typing import Any, Union, Tuple, List, Dict"
      ]
    },
    {
      "cell_type": "markdown",
      "metadata": {
        "id": "6vOLVkbNQeXW"
      },
      "source": [
        "# Support funcs"
      ]
    },
    {
      "cell_type": "code",
      "execution_count": null,
      "metadata": {
        "id": "7b3Bt5YsQgjL"
      },
      "outputs": [],
      "source": [
        "def get_formated_label(label: int, num_labels: int) -> List[int]:\n",
        "  '''Getting formated label for NN'''\n",
        "  formated_label = [0]*num_labels\n",
        "  formated_label[label] = 1\n",
        "  return formated_label"
      ]
    },
    {
      "cell_type": "markdown",
      "metadata": {
        "id": "Uxstn5JIufYi"
      },
      "source": [
        "# Classes"
      ]
    },
    {
      "cell_type": "code",
      "execution_count": null,
      "metadata": {
        "id": "D2_VMLxO6dCC"
      },
      "outputs": [],
      "source": [
        "class Dataset(torch.utils.data.Dataset):\n",
        "  \n",
        "  def __init__(self, seqs: list, labels: list, tokenizer: object, num_labels: int):\n",
        "    self.tokenized = [tokenizer(seq, max_length=512, padding='max_length') for seq in seqs] # max_length=512 'cause max_position_embeddings=512 in bert\n",
        "    self.formated_labels = [get_formated_label(label, num_labels) for label in labels]\n",
        "\n",
        "  def __getitem__(self, i) -> Tuple[Dict[str, torch.tensor], torch.tensor]:\n",
        "    tokenized = {k: torch.tensor(v) for k, v in self.tokenized[i].items()}\n",
        "    formated_label = torch.tensor(self.formated_labels[i]).float()\n",
        "    return tokenized, formated_label\n",
        "  \n",
        "  def __len__(self) -> int:\n",
        "    return len(self.tokenized)"
      ]
    },
    {
      "cell_type": "code",
      "execution_count": null,
      "metadata": {
        "id": "N8TCm0BlwOFn"
      },
      "outputs": [],
      "source": [
        "class IntentClassifier(torch.nn.Module):\n",
        "\n",
        "  def __init__(self, pretrained_bert_model: str, num_labels: int, load_bert_model_state_dict: bool = True):\n",
        "    super(IntentClassifier, self).__init__()\n",
        "    self.pretrained_bert_model = pretrained_bert_model\n",
        "    self.num_labels = num_labels\n",
        "\n",
        "    self.tokenizer = BertTokenizer.from_pretrained(self.pretrained_bert_model)\n",
        "\n",
        "    # layers\n",
        "    if load_bert_model_state_dict:\n",
        "      self.bertfsc = BertForSequenceClassification.from_pretrained(self.pretrained_bert_model, num_labels=self.num_labels)\n",
        "    else:\n",
        "      self.bertfsc = BertForSequenceClassification(BertConfig.from_pretrained(self.pretrained_bert_model), num_labels=self.num_labels)\n",
        "\n",
        "    if torch.cuda.is_available():\n",
        "      self.device = torch.device('cuda:0')\n",
        "    else:\n",
        "      self.device = torch.device('cpu')\n",
        "  \n",
        "  \n",
        "  def forward(self, input_ids: torch.tensor, attention_mask: torch.tensor, token_type_ids: torch.tensor, labels: torch.tensor = None) -> SequenceClassifierOutput:\n",
        "    bertfsc_output = self.bertfsc(input_ids=input_ids, attention_mask=attention_mask, token_type_ids=token_type_ids, labels=labels)\n",
        "    return bertfsc_output\n",
        "\n",
        "  \n",
        "  def train(self, dataloader: torch.utils.data.DataLoader(Dataset), optim: Any, lr: float, epochs: int) -> List[float]:\n",
        "    '''Training layers (without untrained) with dataloader of Dataset\n",
        "    with optional optim func with optional learning rate (lr)'''\n",
        "    # lr=2e-5 or 3e-5 or 5e-5 recommended for sequence classification by bert researchers (https://arxiv.org/pdf/1810.04805.pdf)\n",
        "    optim = optim(self.parameters(), lr=lr)\n",
        "\n",
        "    num_training_steps = len(train_dataloader) * epochs\n",
        "    scheduler = get_linear_schedule_with_warmup(optim, num_warmup_steps=0, num_training_steps=num_training_steps)\n",
        "\n",
        "    # for statistics\n",
        "    history_train_loss = list()\n",
        "    ebfps = len(train_dataloader) / 10 # ebfps - every batch for print statistics\n",
        "\n",
        "    for epoch in range(epochs):\n",
        "      for i, batch in enumerate(train_dataloader):\n",
        "        input_ids = batch[0]['input_ids'].to(self.device)\n",
        "        attention_mask = batch[0]['attention_mask'].to(self.device)\n",
        "        token_type_ids = batch[0]['token_type_ids'].to(self.device)\n",
        "        formated_labels = batch[1].to(self.device)\n",
        "\n",
        "        self.zero_grad()\n",
        "\n",
        "        forward_output = self.forward(input_ids, attention_mask, token_type_ids, formated_labels)\n",
        "        loss = forward_output[0]\n",
        "        loss.backward()\n",
        "\n",
        "        # for statistics\n",
        "        train_loss = loss.item()\n",
        "        if i % ebfps == ebfps - 1:\n",
        "            print(f\"[Epoch: {epoch + 1}, batch: {i + 1}]. Loss: {train_loss}\")\n",
        "        history_train_loss.append(train_loss)\n",
        "        \n",
        "        torch.nn.utils.clip_grad_norm_(self.parameters(), 1.0)\n",
        "\n",
        "        optim.step()\n",
        "        scheduler.step()\n",
        "    \n",
        "    print(\"Training is finish.\")\n",
        "    return history_train_loss\n",
        "  \n",
        "\n",
        "  def load(self, fp: str):\n",
        "    '''Loading state dict (weights and biases) from pytorch checkpoint'''\n",
        "    self.load_state_dict(torch.load(fp))\n",
        "\n",
        "  \n",
        "  def predict(self, text: str) -> Dict[str, Union[int, float]]:\n",
        "    \n",
        "    tokenized = self.tokenizer(text, return_tensors='pt').to(self.device)\n",
        "    forward_output = self.forward(tokenized['input_ids'], tokenized['attention_mask'], tokenized['token_type_ids'])\n",
        "    logits = forward_output[0]\n",
        "\n",
        "    max_prob_label, max_prob = -1, -1\n",
        "    for label, prob in enumerate(logits[0], 0):\n",
        "      prob = prob.item()\n",
        "      if prob > max_prob:\n",
        "        max_prob_label, max_prob = label, prob\n",
        "    \n",
        "    if max_prob < 0.51:\n",
        "      max_prob_label, max_prob = 6, 1.0 - torch.mean(logits[0]).item()\n",
        "\n",
        "    print(logits) # for debug\n",
        "    return {'label': max_prob_label, 'prob': round(max_prob, 3)}"
      ]
    },
    {
      "cell_type": "markdown",
      "metadata": {
        "id": "PG18kmlO3WHP"
      },
      "source": [
        "# Model init"
      ]
    },
    {
      "cell_type": "code",
      "execution_count": null,
      "metadata": {
        "colab": {
          "base_uri": "https://localhost:8080/"
        },
        "id": "wH02_nXhw7kc",
        "outputId": "3d1906a9-591b-4b1f-a28d-038df925fce0"
      },
      "outputs": [
        {
          "output_type": "stream",
          "name": "stderr",
          "text": [
            "Some weights of the model checkpoint at bert-base-multilingual-uncased were not used when initializing BertForSequenceClassification: ['cls.predictions.bias', 'cls.predictions.transform.dense.bias', 'cls.predictions.transform.LayerNorm.weight', 'cls.predictions.decoder.weight', 'cls.predictions.transform.dense.weight', 'cls.seq_relationship.bias', 'cls.predictions.transform.LayerNorm.bias', 'cls.seq_relationship.weight']\n",
            "- This IS expected if you are initializing BertForSequenceClassification from the checkpoint of a model trained on another task or with another architecture (e.g. initializing a BertForSequenceClassification model from a BertForPreTraining model).\n",
            "- This IS NOT expected if you are initializing BertForSequenceClassification from the checkpoint of a model that you expect to be exactly identical (initializing a BertForSequenceClassification model from a BertForSequenceClassification model).\n",
            "Some weights of BertForSequenceClassification were not initialized from the model checkpoint at bert-base-multilingual-uncased and are newly initialized: ['classifier.weight', 'classifier.bias']\n",
            "You should probably TRAIN this model on a down-stream task to be able to use it for predictions and inference.\n"
          ]
        }
      ],
      "source": [
        "%%capture\n",
        "model = IntentClassifier('bert-base-multilingual-uncased', num_labels=6)\n",
        "model.to(model.device)"
      ]
    },
    {
      "cell_type": "markdown",
      "metadata": {
        "id": "Ces829tV5TSJ"
      },
      "source": [
        "# Datasets init"
      ]
    },
    {
      "cell_type": "code",
      "execution_count": null,
      "metadata": {
        "colab": {
          "base_uri": "https://localhost:8080/"
        },
        "id": "z1U_3gVv5VCQ",
        "outputId": "deff2f7e-ec5e-41e7-bc3c-d825c432045e"
      },
      "outputs": [
        {
          "output_type": "execute_result",
          "data": {
            "text/plain": [
              "                                            sequence              intent  \\\n",
              "789           есть ли такая вещь, как хорошая смерть  philosophical_talk   \n",
              "790  разум или мудрость, что важнее для лучшего мира  philosophical_talk   \n",
              "791     являются ли убеждения и суеверия одинаковыми  philosophical_talk   \n",
              "792         почему мы делаем то, что нам не нравится  philosophical_talk   \n",
              "793                 у атеистов есть собственные боги  philosophical_talk   \n",
              "\n",
              "     label  \n",
              "789      5  \n",
              "790      5  \n",
              "791      5  \n",
              "792      5  \n",
              "793      5  "
            ],
            "text/html": [
              "\n",
              "  <div id=\"df-db302f12-928d-47a0-b8b9-b7fbf9c118a1\">\n",
              "    <div class=\"colab-df-container\">\n",
              "      <div>\n",
              "<style scoped>\n",
              "    .dataframe tbody tr th:only-of-type {\n",
              "        vertical-align: middle;\n",
              "    }\n",
              "\n",
              "    .dataframe tbody tr th {\n",
              "        vertical-align: top;\n",
              "    }\n",
              "\n",
              "    .dataframe thead th {\n",
              "        text-align: right;\n",
              "    }\n",
              "</style>\n",
              "<table border=\"1\" class=\"dataframe\">\n",
              "  <thead>\n",
              "    <tr style=\"text-align: right;\">\n",
              "      <th></th>\n",
              "      <th>sequence</th>\n",
              "      <th>intent</th>\n",
              "      <th>label</th>\n",
              "    </tr>\n",
              "  </thead>\n",
              "  <tbody>\n",
              "    <tr>\n",
              "      <th>789</th>\n",
              "      <td>есть ли такая вещь, как хорошая смерть</td>\n",
              "      <td>philosophical_talk</td>\n",
              "      <td>5</td>\n",
              "    </tr>\n",
              "    <tr>\n",
              "      <th>790</th>\n",
              "      <td>разум или мудрость, что важнее для лучшего мира</td>\n",
              "      <td>philosophical_talk</td>\n",
              "      <td>5</td>\n",
              "    </tr>\n",
              "    <tr>\n",
              "      <th>791</th>\n",
              "      <td>являются ли убеждения и суеверия одинаковыми</td>\n",
              "      <td>philosophical_talk</td>\n",
              "      <td>5</td>\n",
              "    </tr>\n",
              "    <tr>\n",
              "      <th>792</th>\n",
              "      <td>почему мы делаем то, что нам не нравится</td>\n",
              "      <td>philosophical_talk</td>\n",
              "      <td>5</td>\n",
              "    </tr>\n",
              "    <tr>\n",
              "      <th>793</th>\n",
              "      <td>у атеистов есть собственные боги</td>\n",
              "      <td>philosophical_talk</td>\n",
              "      <td>5</td>\n",
              "    </tr>\n",
              "  </tbody>\n",
              "</table>\n",
              "</div>\n",
              "      <button class=\"colab-df-convert\" onclick=\"convertToInteractive('df-db302f12-928d-47a0-b8b9-b7fbf9c118a1')\"\n",
              "              title=\"Convert this dataframe to an interactive table.\"\n",
              "              style=\"display:none;\">\n",
              "        \n",
              "  <svg xmlns=\"http://www.w3.org/2000/svg\" height=\"24px\"viewBox=\"0 0 24 24\"\n",
              "       width=\"24px\">\n",
              "    <path d=\"M0 0h24v24H0V0z\" fill=\"none\"/>\n",
              "    <path d=\"M18.56 5.44l.94 2.06.94-2.06 2.06-.94-2.06-.94-.94-2.06-.94 2.06-2.06.94zm-11 1L8.5 8.5l.94-2.06 2.06-.94-2.06-.94L8.5 2.5l-.94 2.06-2.06.94zm10 10l.94 2.06.94-2.06 2.06-.94-2.06-.94-.94-2.06-.94 2.06-2.06.94z\"/><path d=\"M17.41 7.96l-1.37-1.37c-.4-.4-.92-.59-1.43-.59-.52 0-1.04.2-1.43.59L10.3 9.45l-7.72 7.72c-.78.78-.78 2.05 0 2.83L4 21.41c.39.39.9.59 1.41.59.51 0 1.02-.2 1.41-.59l7.78-7.78 2.81-2.81c.8-.78.8-2.07 0-2.86zM5.41 20L4 18.59l7.72-7.72 1.47 1.35L5.41 20z\"/>\n",
              "  </svg>\n",
              "      </button>\n",
              "      \n",
              "  <style>\n",
              "    .colab-df-container {\n",
              "      display:flex;\n",
              "      flex-wrap:wrap;\n",
              "      gap: 12px;\n",
              "    }\n",
              "\n",
              "    .colab-df-convert {\n",
              "      background-color: #E8F0FE;\n",
              "      border: none;\n",
              "      border-radius: 50%;\n",
              "      cursor: pointer;\n",
              "      display: none;\n",
              "      fill: #1967D2;\n",
              "      height: 32px;\n",
              "      padding: 0 0 0 0;\n",
              "      width: 32px;\n",
              "    }\n",
              "\n",
              "    .colab-df-convert:hover {\n",
              "      background-color: #E2EBFA;\n",
              "      box-shadow: 0px 1px 2px rgba(60, 64, 67, 0.3), 0px 1px 3px 1px rgba(60, 64, 67, 0.15);\n",
              "      fill: #174EA6;\n",
              "    }\n",
              "\n",
              "    [theme=dark] .colab-df-convert {\n",
              "      background-color: #3B4455;\n",
              "      fill: #D2E3FC;\n",
              "    }\n",
              "\n",
              "    [theme=dark] .colab-df-convert:hover {\n",
              "      background-color: #434B5C;\n",
              "      box-shadow: 0px 1px 3px 1px rgba(0, 0, 0, 0.15);\n",
              "      filter: drop-shadow(0px 1px 2px rgba(0, 0, 0, 0.3));\n",
              "      fill: #FFFFFF;\n",
              "    }\n",
              "  </style>\n",
              "\n",
              "      <script>\n",
              "        const buttonEl =\n",
              "          document.querySelector('#df-db302f12-928d-47a0-b8b9-b7fbf9c118a1 button.colab-df-convert');\n",
              "        buttonEl.style.display =\n",
              "          google.colab.kernel.accessAllowed ? 'block' : 'none';\n",
              "\n",
              "        async function convertToInteractive(key) {\n",
              "          const element = document.querySelector('#df-db302f12-928d-47a0-b8b9-b7fbf9c118a1');\n",
              "          const dataTable =\n",
              "            await google.colab.kernel.invokeFunction('convertToInteractive',\n",
              "                                                     [key], {});\n",
              "          if (!dataTable) return;\n",
              "\n",
              "          const docLinkHtml = 'Like what you see? Visit the ' +\n",
              "            '<a target=\"_blank\" href=https://colab.research.google.com/notebooks/data_table.ipynb>data table notebook</a>'\n",
              "            + ' to learn more about interactive tables.';\n",
              "          element.innerHTML = '';\n",
              "          dataTable['output_type'] = 'display_data';\n",
              "          await google.colab.output.renderOutput(dataTable, element);\n",
              "          const docLink = document.createElement('div');\n",
              "          docLink.innerHTML = docLinkHtml;\n",
              "          element.appendChild(docLink);\n",
              "        }\n",
              "      </script>\n",
              "    </div>\n",
              "  </div>\n",
              "  "
            ]
          },
          "metadata": {},
          "execution_count": 7
        }
      ],
      "source": [
        "df = pd.read_csv('data/small_dataset.csv')\n",
        "df.tail()"
      ]
    },
    {
      "cell_type": "code",
      "execution_count": null,
      "metadata": {
        "id": "jeods5t95p_S"
      },
      "outputs": [],
      "source": [
        "train_seqs, test_seqs, train_labels, test_labels = train_test_split(df['sequence'].tolist(),\n",
        "                                                                    df['label'].tolist(),\n",
        "                                                                    test_size=0.1) # transfer data to list need for train_test_split; shuffle=True by default"
      ]
    },
    {
      "cell_type": "code",
      "execution_count": null,
      "metadata": {
        "id": "DAvZjcMr9i68"
      },
      "outputs": [],
      "source": [
        "train_dataset = Dataset(train_seqs, train_labels, tokenizer=model.tokenizer, num_labels=6)\n",
        "test_dataset = Dataset(test_seqs, test_labels, tokenizer=model.tokenizer, num_labels=6)"
      ]
    },
    {
      "cell_type": "code",
      "execution_count": null,
      "metadata": {
        "id": "x-EV64NvUiwI"
      },
      "outputs": [],
      "source": [
        "# batch_size=16 or 32 recommended for sequence classification by bert researchers (https://arxiv.org/pdf/1810.04805.pdf)\n",
        "train_dataloader = torch.utils.data.DataLoader(train_dataset, batch_size=16, shuffle=True)\n",
        "test_dataloader = torch.utils.data.DataLoader(test_dataset, batch_size=16, shuffle=True)"
      ]
    },
    {
      "cell_type": "markdown",
      "metadata": {
        "id": "spXW4LAJctyE"
      },
      "source": [
        "# Train"
      ]
    },
    {
      "cell_type": "code",
      "execution_count": null,
      "metadata": {
        "id": "AtgIDR1QGAam"
      },
      "outputs": [],
      "source": [
        "# epochs=4 or 2 or 3 recommended for sequence classification by bert researchers (https://arxiv.org/pdf/1810.04805.pdf)\n",
        "htl_0 = model.train(train_dataloader, optim=torch.optim.Adam, lr=2e-5 epochs=4)"
      ]
    },
    {
      "cell_type": "code",
      "source": [
        "htl_1 = model.train(train_dataloader, optim=torch.optim.AdamW, lr=2e-5, epochs=4)"
      ],
      "metadata": {
        "id": "S44rRPwROMcm"
      },
      "execution_count": null,
      "outputs": []
    },
    {
      "cell_type": "code",
      "source": [
        "htl_2 = model.train(train_dataloader, optim=torch.optim.Adam, lr=5e-5, epochs=4)"
      ],
      "metadata": {
        "id": "XThg5c2RPYJ2"
      },
      "execution_count": null,
      "outputs": []
    },
    {
      "cell_type": "code",
      "source": [
        "htl_3 = model.train(train_dataloader, optim=torch.optim.AdamW, lr=5e-5, epochs=4)"
      ],
      "metadata": {
        "id": "vIhXOjWFQGGa"
      },
      "execution_count": null,
      "outputs": []
    },
    {
      "cell_type": "code",
      "source": [
        "htl_4 = model.train(train_dataloader, optim=torch.optim.Adam, lr=3e-5, epochs=4)"
      ],
      "metadata": {
        "id": "jrCuW2ISRnyu"
      },
      "execution_count": null,
      "outputs": []
    },
    {
      "cell_type": "code",
      "source": [
        "htl_5 = model.train(train_dataloader, optim=torch.optim.AdamW, lr=3e-5, epochs=4)"
      ],
      "metadata": {
        "id": "ZMVjo2aWSrW_"
      },
      "execution_count": null,
      "outputs": []
    },
    {
      "cell_type": "markdown",
      "metadata": {
        "id": "ij-bIEtFeayu"
      },
      "source": [
        "# Research"
      ]
    },
    {
      "cell_type": "code",
      "execution_count": null,
      "metadata": {
        "id": "iSkUchyKP83K"
      },
      "outputs": [],
      "source": [
        "# htl - history train loss\n",
        "def plot_htls(htls: list, legend: list, title: str):\n",
        "  '''Plotting htls (max 7) in one graph with different htl-line colors'''\n",
        "  if len(htls) > 7:\n",
        "    htls = htls[:7]\n",
        "    print(\"Max htls length = 7. Other won't plotting.\")\n",
        "\n",
        "  colors = ['b', 'g', 'r', 'c', 'm', 'y', 'k', 'w']\n",
        "  plt_plot_args = list()\n",
        "  for i in range(len(htls)):\n",
        "    plt_plot_args.append(htls[i])\n",
        "    plt_plot_args.append(colors[i])\n",
        "  plt.plot(*plt_plot_args)\n",
        "  plt.legend(legend)\n",
        "  plt.title(title)\n",
        "  plt.xlabel(\"batch\")\n",
        "  plt.ylabel(\"loss\")\n",
        "  plt.show()"
      ]
    },
    {
      "cell_type": "code",
      "source": [
        "# (!) htl_0,1,2,4 in CPU\n",
        "plot_htls([htl_0, htl_1, htl_2, htl_3, htl_4, htl_5],\n",
        "          [\"optim Adam(lr=2e-5)\",\n",
        "           \"optim AdamW(lr=2e-5)\",\n",
        "           \"optim Adam(lr=5e-5)\",\n",
        "           \"optim AdamW(lr=5e-5)\",\n",
        "           \"optim Adam(lr=3e-5)\",\n",
        "           \"optim AdamW(lr=3e-5)\"],\n",
        "          \"History train [on GPU] loss:\\nby small_dataset\\nepochs=4, batch_size=16\")"
      ],
      "metadata": {
        "id": "hrDn4Pf5dYKp",
        "colab": {
          "base_uri": "https://localhost:8080/",
          "height": 325
        },
        "outputId": "172c0811-669b-4dd9-957d-d7402e17c78a"
      },
      "execution_count": null,
      "outputs": [
        {
          "output_type": "display_data",
          "data": {
            "text/plain": [
              "<Figure size 432x288 with 1 Axes>"
            ],
            "image/png": "[encoded data removed]"
          },
          "metadata": {
            "needs_background": "light"
          }
        }
      ]
    }
  ],
  "metadata": {
    "colab": {
      "collapsed_sections": [
        "TpZaENYk3MuN",
        "6vOLVkbNQeXW",
        "PG18kmlO3WHP",
        "Ces829tV5TSJ",
        "spXW4LAJctyE",
        "ij-bIEtFeayu"
      ],
      "name": "second_model (4).ipynb",
      "provenance": []
    },
    "gpuClass": "standard",
    "kernelspec": {
      "display_name": "Python 3",
      "name": "python3"
    },
    "language_info": {
      "name": "python"
    },
    "accelerator": "GPU"
  },
  "nbformat": 4,
  "nbformat_minor": 0
}