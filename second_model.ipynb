{
  "nbformat": 4,
  "nbformat_minor": 0,
  "metadata": {
    "colab": {
      "name": "second_model.ipynb",
      "provenance": [],
      "collapsed_sections": [
        "pUdSCfeRNXkl",
        "mePGlKYiNicE",
        "-WZ5uQ4-tpX5",
        "BqKQryiHvdfG",
        "mf3my1zm1V2q"
      ]
    },
    "kernelspec": {
      "name": "python3",
      "display_name": "Python 3"
    },
    "language_info": {
      "name": "python"
    },
    "gpuClass": "standard"
  },
  "cells": [
    {
      "cell_type": "markdown",
      "source": [
        "# Download, install and import"
      ],
      "metadata": {
        "id": "pUdSCfeRNXkl"
      }
    },
    {
      "cell_type": "code",
      "execution_count": null,
      "metadata": {
        "id": "9ChhYGbsNWYo"
      },
      "outputs": [],
      "source": [
        "# download newest pretrained model BERT Multilingual Base Cased\n",
        "!wget https://storage.googleapis.com/bert_models/2018_11_23/multi_cased_L-12_H-768_A-12.zip\n",
        "!unzip multi_cased_L-12_H-768_A-12.zip\n",
        "!rm multi_cased_L-12_H-768_A-12.zip"
      ]
    },
    {
      "cell_type": "code",
      "source": [
        "!pip install transformers"
      ],
      "metadata": {
        "id": "uJ9zGKPDwFsX"
      },
      "execution_count": null,
      "outputs": []
    },
    {
      "cell_type": "code",
      "source": [
        "import os\n",
        "import json\n",
        "\n",
        "import torch\n",
        "import numpy as np\n",
        "import pandas as pd\n",
        "from sklearn.model_selection import train_test_split\n",
        "\n",
        "from transformers.models.bert.convert_bert_original_tf_checkpoint_to_pytorch import convert_tf_checkpoint_to_pytorch\n",
        "from transformers.models.bert.tokenization_bert import BertTokenizer"
      ],
      "metadata": {
        "id": "hXICDYuJNef-"
      },
      "execution_count": 33,
      "outputs": []
    },
    {
      "cell_type": "markdown",
      "source": [
        "# Support vars and funcs"
      ],
      "metadata": {
        "id": "mePGlKYiNicE"
      }
    },
    {
      "cell_type": "code",
      "source": [
        "BERT_MODEL_DIR = 'multi_cased_L-12_H-768_A-12/'\n",
        "DATASET_PATH = 'data/small_dataset.csv'"
      ],
      "metadata": {
        "id": "NEv1LtczNkkj"
      },
      "execution_count": 34,
      "outputs": []
    },
    {
      "cell_type": "code",
      "source": [
        "def get_formal_encode(seq: list, config: dict) -> dict:\n",
        "  encode = bert_tokenizer(seq, padding=True)\n",
        "\n",
        "  encode['position_ids'] = [1]*len(encode['input_ids']) + [0]*(config['max_position_embeddings'] - len(encode['input_ids'])) # init necessary data for model\n",
        "  encode['input_ids'] += [0]*(config['max_position_embeddings'] - len(encode['input_ids'])) # expand tokens data to max_position_embeddings\n",
        "  encode['token_type_ids'] += [0]*(config['max_position_embeddings'] - len(encode['token_type_ids'])) # expand necessary data for model\n",
        "  del encode['attention_mask'] # delete unnecessary data for model\n",
        "  \n",
        "  return encode"
      ],
      "metadata": {
        "id": "m3fBj6Q-2snN"
      },
      "execution_count": 35,
      "outputs": []
    },
    {
      "cell_type": "code",
      "source": [
        "def get_formal_label(label: int, config: dict) -> list:\n",
        "  formal_label = [0]*config['num_labels']\n",
        "  formal_label[label] = 1\n",
        "  return formal_label"
      ],
      "metadata": {
        "id": "YlzszyyM-G3X"
      },
      "execution_count": 36,
      "outputs": []
    },
    {
      "cell_type": "markdown",
      "source": [
        "# Model"
      ],
      "metadata": {
        "id": "RiiJbI3oNtyl"
      }
    },
    {
      "cell_type": "markdown",
      "source": [
        "## Config"
      ],
      "metadata": {
        "id": "-WZ5uQ4-tpX5"
      }
    },
    {
      "cell_type": "code",
      "source": [
        "with open(BERT_MODEL_DIR + 'bert_config.json') as fp:\n",
        "  config = json.load(fp)"
      ],
      "metadata": {
        "id": "FJYbPMm-l-1r"
      },
      "execution_count": 37,
      "outputs": []
    },
    {
      "cell_type": "code",
      "source": [
        "config['num_labels'] = 6"
      ],
      "metadata": {
        "id": "QTg2N2MVtuin"
      },
      "execution_count": 38,
      "outputs": []
    },
    {
      "cell_type": "markdown",
      "source": [
        "## Classes"
      ],
      "metadata": {
        "id": "XVLkwMnEOIyA"
      }
    },
    {
      "cell_type": "code",
      "source": [
        "class Embeddings(torch.nn.Module):\n",
        "  def __init__(self, config):\n",
        "    super().__init__()\n",
        "    self.word_embeddings = torch.nn.Embedding(config['vocab_size'], 768, padding_idx=0)\n",
        "    self.position_embeddings = torch.nn.Embedding(config['max_position_embeddings'], 768)\n",
        "    self.token_type_embeddings = torch.nn.Embedding(2, 768)\n",
        "    self.LayerNorm = torch.nn.LayerNorm((768,), eps=1e-12, elementwise_affine=True)\n",
        "    self.dropout = torch.nn.Dropout(p=0.1, inplace=False)\n",
        "  \n",
        "  def forward(self, encodes):\n",
        "    word_embeddings_output = self.word_embeddings(encodes['input_ids'])\n",
        "    position_embeddings_output = self.position_embeddings(encodes['position_ids'])\n",
        "    token_type_embeddings = self.token_type_embeddings(encodes['token_type_ids'])\n",
        "\n",
        "    embeddings = word_embeddings_output + position_embeddings_output + token_type_embeddings\n",
        "    \n",
        "    embeddings = self.LayerNorm(embeddings)\n",
        "    embeddings = self.dropout(embeddings)\n",
        "    return embeddings"
      ],
      "metadata": {
        "id": "6Xu-ipl3Nw4Z"
      },
      "execution_count": 39,
      "outputs": []
    },
    {
      "cell_type": "code",
      "source": [
        "class SelfAttention(torch.nn.Module):\n",
        "  def __init__(self, config):\n",
        "    super().__init__()\n",
        "    self.query = torch.nn.Linear(in_features=768, out_features=768, bias=True)\n",
        "    self.key = torch.nn.Linear(in_features=768, out_features=768, bias=True)\n",
        "    self.value = torch.nn.Linear(in_features=768, out_features=768, bias=True)\n",
        "    self.dropout = torch.nn.Dropout(p=config['attention_probs_dropout_prob'], inplace=False)\n",
        "  \n",
        "  def forward(self, x):\n",
        "    x = self.query(x)\n",
        "    x = self.key(x)\n",
        "    x = self.value(x)\n",
        "    x = self.dropout(x)\n",
        "    return x"
      ],
      "metadata": {
        "id": "fVRGmhI3NzIo"
      },
      "execution_count": 40,
      "outputs": []
    },
    {
      "cell_type": "code",
      "source": [
        "class SelfOutput(torch.nn.Module):\n",
        "  def __init__(self, config):\n",
        "    super().__init__()\n",
        "    self.dense = torch.nn.Linear(in_features=768, out_features=768, bias=True)\n",
        "    self.LayerNorm = torch.nn.LayerNorm((768,), eps=1e-12, elementwise_affine=True)\n",
        "    self.dropout = torch.nn.Dropout(p=config['hidden_dropout_prob'], inplace=False)\n",
        "  \n",
        "  def forward(self, x):\n",
        "    x = self.dense(x)\n",
        "    x = self.LayerNorm(x)\n",
        "    x = self.dropout(x)\n",
        "    return x"
      ],
      "metadata": {
        "id": "GjeyQUzMN1VV"
      },
      "execution_count": 41,
      "outputs": []
    },
    {
      "cell_type": "code",
      "source": [
        "class Attention(torch.nn.Module):\n",
        "  def __init__(self, config):\n",
        "    super().__init__()\n",
        "    self.self = SelfAttention(config)\n",
        "    self.output = SelfOutput(config)\n",
        "\n",
        "  def forward(self, x):\n",
        "    x = self.self(x)\n",
        "    x = self.output(x)\n",
        "    return x"
      ],
      "metadata": {
        "id": "K0ZsJlJQN3Xv"
      },
      "execution_count": 42,
      "outputs": []
    },
    {
      "cell_type": "code",
      "source": [
        "class Intermediate(torch.nn.Module):\n",
        "  def __init__(self, config):\n",
        "    super().__init__()\n",
        "    self.dense = torch.nn.Linear(in_features=768, out_features=config['intermediate_size'], bias=True)\n",
        "    if config['hidden_act'] == 'gelu':\n",
        "      self.intermediate_act_fn = torch.nn.functional.gelu\n",
        "  \n",
        "  def forward(self, x):\n",
        "    x = self.dense(x)\n",
        "    x = self.intermediate_act_fn(x)\n",
        "    return x"
      ],
      "metadata": {
        "id": "fO3ycxxCN5W1"
      },
      "execution_count": 43,
      "outputs": []
    },
    {
      "cell_type": "code",
      "source": [
        "class Output(torch.nn.Module):\n",
        "  def __init__(self, config):\n",
        "    super().__init__()\n",
        "    self.dense = torch.nn.Linear(in_features=config['intermediate_size'], out_features=768, bias=True)\n",
        "    self.LayerNorm = torch.nn.LayerNorm((768,), eps=1e-12, elementwise_affine=True)\n",
        "    self.dropout = torch.nn.Dropout(p=config['hidden_dropout_prob'], inplace=False)\n",
        "  \n",
        "  def forward(self, x):\n",
        "    x = self.dense(x)\n",
        "    x = self.LayerNorm(x)\n",
        "    x = self.dropout(x)\n",
        "    return x"
      ],
      "metadata": {
        "id": "Ns7z6NFQN5Mc"
      },
      "execution_count": 44,
      "outputs": []
    },
    {
      "cell_type": "code",
      "source": [
        "class Layer(torch.nn.Module):\n",
        "  def __init__(self, config):\n",
        "    super().__init__()\n",
        "    self.attention = Attention(config)\n",
        "    self.intermediate = Intermediate(config)\n",
        "    self.output = Output(config)\n",
        "  \n",
        "  def forward(self, x):\n",
        "    x = self.attention(x)\n",
        "    x = self.intermediate(x)\n",
        "    x = self.output(x)\n",
        "    return x"
      ],
      "metadata": {
        "id": "f8VQ_eiLN9aM"
      },
      "execution_count": 45,
      "outputs": []
    },
    {
      "cell_type": "code",
      "source": [
        "class Encoder(torch.nn.Module):\n",
        "  def __init__(self, config):\n",
        "    super().__init__()\n",
        "    self.layer = torch.nn.ModuleList(Layer(config) for i in range(config['num_hidden_layers']))\n",
        "  \n",
        "  def forward(self, x):\n",
        "    for i, layer in enumerate(self.layer):\n",
        "      x = x + layer(x)\n",
        "    return x"
      ],
      "metadata": {
        "id": "R7j85NXWN_TN"
      },
      "execution_count": 46,
      "outputs": []
    },
    {
      "cell_type": "code",
      "source": [
        "class Pooler(torch.nn.Module):\n",
        "  def __init__(self, config):\n",
        "    super().__init__()\n",
        "    self.dense = torch.nn.Linear(in_features=768, out_features=768, bias=True)\n",
        "    self.activation = torch.nn.Softmax(dim=1) #need define dim\n",
        "  \n",
        "  def forward(self, x):\n",
        "    x = self.dense(x)\n",
        "    x = self.activation(x)\n",
        "    return x"
      ],
      "metadata": {
        "id": "xhT__nbEOBMp"
      },
      "execution_count": 47,
      "outputs": []
    },
    {
      "cell_type": "code",
      "source": [
        "class Bert(torch.nn.Module):\n",
        "  def __init__(self, config):\n",
        "    super().__init__()\n",
        "    self.embeddings = Embeddings(config)\n",
        "    self.encoder = Encoder(config)\n",
        "    self.pooler = Pooler(config)\n",
        "  \n",
        "  def forward(self, encodes):\n",
        "    x = self.embeddings(encodes)\n",
        "    x = self.encoder(x)\n",
        "    x = self.pooler(x)\n",
        "    return x"
      ],
      "metadata": {
        "id": "pLnX3YntOEWp"
      },
      "execution_count": 48,
      "outputs": []
    },
    {
      "cell_type": "code",
      "source": [
        "class IntentClassifier(torch.nn.Module):\n",
        "  def __init__(self, config):\n",
        "    super().__init__()\n",
        "    self.bert = Bert(config)\n",
        "    self.dropout = torch.nn.Dropout(p=0.1, inplace=False)\n",
        "    self.classifier = torch.nn.Linear(in_features=768, out_features=config['num_labels'], bias=True)\n",
        "\n",
        "  def forward(self, encodes):\n",
        "    x = self.bert(encodes)\n",
        "    x = self.dropout(x)\n",
        "    x = self.classifier(x)\n",
        "    return x\n",
        "  \n",
        "  def predict(self, seq: str) -> torch.tensor:\n",
        "    encode = get_formal_encode(seq, config)\n",
        "    tensor_encode = {k: torch.tensor(v) for k, v in encode.items()}\n",
        "    model_output = self.forward(tensor_encode)\n",
        "    return model_output"
      ],
      "metadata": {
        "id": "zsg-c0ksOGkG"
      },
      "execution_count": 49,
      "outputs": []
    },
    {
      "cell_type": "markdown",
      "source": [
        "## Init"
      ],
      "metadata": {
        "id": "Csg5H4KDONSL"
      }
    },
    {
      "cell_type": "code",
      "source": [
        "model = IntentClassifier(config)"
      ],
      "metadata": {
        "id": "uwWjKK1QOT7O"
      },
      "execution_count": 50,
      "outputs": []
    },
    {
      "cell_type": "code",
      "source": [
        "bert_tokenizer = BertTokenizer(BERT_MODEL_DIR + 'vocab.txt')"
      ],
      "metadata": {
        "id": "dzrxtkPK7Zop"
      },
      "execution_count": 51,
      "outputs": []
    },
    {
      "cell_type": "markdown",
      "source": [
        "## Load state dict (weights and biases model)"
      ],
      "metadata": {
        "id": "BqKQryiHvdfG"
      }
    },
    {
      "cell_type": "code",
      "source": [
        "convert_tf_checkpoint_to_pytorch(BERT_MODEL_DIR + 'bert_model.ckpt', BERT_MODEL_DIR + 'bert_config.json',\n",
        "                                 BERT_MODEL_DIR + 'bert_model.pt')"
      ],
      "metadata": {
        "id": "3PIVDzhcv60m"
      },
      "execution_count": null,
      "outputs": []
    },
    {
      "cell_type": "code",
      "source": [
        "state_dict = torch.load(BERT_MODEL_DIR + 'bert_model.pt')"
      ],
      "metadata": {
        "id": "JxqrBCKOxDuk"
      },
      "execution_count": 53,
      "outputs": []
    },
    {
      "cell_type": "code",
      "source": [
        "# init missing weights and biases (missing in original BERT)\n",
        "state_dict['classifier.weight'] = torch.Tensor(np.zeros((6, 768)))\n",
        "state_dict['classifier.bias'] = torch.Tensor(np.zeros(config['num_labels']))\n",
        "\n",
        "# load only need weights and biases (with skip extra in orginal BERT)\n",
        "model_state_dict = model.state_dict()\n",
        "model.load_state_dict({k: v for k, v in state_dict.items() if k in model_state_dict})"
      ],
      "metadata": {
        "colab": {
          "base_uri": "https://localhost:8080/"
        },
        "id": "CpH23ucSxZuz",
        "outputId": "cb4b69a5-18a5-419f-b1b7-b5b352d8f8da"
      },
      "execution_count": 54,
      "outputs": [
        {
          "output_type": "execute_result",
          "data": {
            "text/plain": [
              "<All keys matched successfully>"
            ]
          },
          "metadata": {},
          "execution_count": 54
        }
      ]
    },
    {
      "cell_type": "markdown",
      "source": [
        "# Dataset"
      ],
      "metadata": {
        "id": "mf3my1zm1V2q"
      }
    },
    {
      "cell_type": "code",
      "source": [
        "df = pd.read_csv(DATASET_PATH)\n",
        "df.tail()"
      ],
      "metadata": {
        "colab": {
          "base_uri": "https://localhost:8080/",
          "height": 206
        },
        "id": "IGquH0r71buI",
        "outputId": "b1363992-dbf7-476c-e165-2769f7c4911f"
      },
      "execution_count": 55,
      "outputs": [
        {
          "output_type": "execute_result",
          "data": {
            "text/plain": [
              "                                            sequence              intent  \\\n",
              "789           есть ли такая вещь, как хорошая смерть  philosophical_talk   \n",
              "790  разум или мудрость, что важнее для лучшего мира  philosophical_talk   \n",
              "791     являются ли убеждения и суеверия одинаковыми  philosophical_talk   \n",
              "792         почему мы делаем то, что нам не нравится  philosophical_talk   \n",
              "793                 у атеистов есть собственные боги  philosophical_talk   \n",
              "\n",
              "     label  \n",
              "789      5  \n",
              "790      5  \n",
              "791      5  \n",
              "792      5  \n",
              "793      5  "
            ],
            "text/html": [
              "\n",
              "  <div id=\"df-9c3d4399-f0e3-4eb3-bc48-188a36e238d6\">\n",
              "    <div class=\"colab-df-container\">\n",
              "      <div>\n",
              "<style scoped>\n",
              "    .dataframe tbody tr th:only-of-type {\n",
              "        vertical-align: middle;\n",
              "    }\n",
              "\n",
              "    .dataframe tbody tr th {\n",
              "        vertical-align: top;\n",
              "    }\n",
              "\n",
              "    .dataframe thead th {\n",
              "        text-align: right;\n",
              "    }\n",
              "</style>\n",
              "<table border=\"1\" class=\"dataframe\">\n",
              "  <thead>\n",
              "    <tr style=\"text-align: right;\">\n",
              "      <th></th>\n",
              "      <th>sequence</th>\n",
              "      <th>intent</th>\n",
              "      <th>label</th>\n",
              "    </tr>\n",
              "  </thead>\n",
              "  <tbody>\n",
              "    <tr>\n",
              "      <th>789</th>\n",
              "      <td>есть ли такая вещь, как хорошая смерть</td>\n",
              "      <td>philosophical_talk</td>\n",
              "      <td>5</td>\n",
              "    </tr>\n",
              "    <tr>\n",
              "      <th>790</th>\n",
              "      <td>разум или мудрость, что важнее для лучшего мира</td>\n",
              "      <td>philosophical_talk</td>\n",
              "      <td>5</td>\n",
              "    </tr>\n",
              "    <tr>\n",
              "      <th>791</th>\n",
              "      <td>являются ли убеждения и суеверия одинаковыми</td>\n",
              "      <td>philosophical_talk</td>\n",
              "      <td>5</td>\n",
              "    </tr>\n",
              "    <tr>\n",
              "      <th>792</th>\n",
              "      <td>почему мы делаем то, что нам не нравится</td>\n",
              "      <td>philosophical_talk</td>\n",
              "      <td>5</td>\n",
              "    </tr>\n",
              "    <tr>\n",
              "      <th>793</th>\n",
              "      <td>у атеистов есть собственные боги</td>\n",
              "      <td>philosophical_talk</td>\n",
              "      <td>5</td>\n",
              "    </tr>\n",
              "  </tbody>\n",
              "</table>\n",
              "</div>\n",
              "      <button class=\"colab-df-convert\" onclick=\"convertToInteractive('df-9c3d4399-f0e3-4eb3-bc48-188a36e238d6')\"\n",
              "              title=\"Convert this dataframe to an interactive table.\"\n",
              "              style=\"display:none;\">\n",
              "        \n",
              "  <svg xmlns=\"http://www.w3.org/2000/svg\" height=\"24px\"viewBox=\"0 0 24 24\"\n",
              "       width=\"24px\">\n",
              "    <path d=\"M0 0h24v24H0V0z\" fill=\"none\"/>\n",
              "    <path d=\"M18.56 5.44l.94 2.06.94-2.06 2.06-.94-2.06-.94-.94-2.06-.94 2.06-2.06.94zm-11 1L8.5 8.5l.94-2.06 2.06-.94-2.06-.94L8.5 2.5l-.94 2.06-2.06.94zm10 10l.94 2.06.94-2.06 2.06-.94-2.06-.94-.94-2.06-.94 2.06-2.06.94z\"/><path d=\"M17.41 7.96l-1.37-1.37c-.4-.4-.92-.59-1.43-.59-.52 0-1.04.2-1.43.59L10.3 9.45l-7.72 7.72c-.78.78-.78 2.05 0 2.83L4 21.41c.39.39.9.59 1.41.59.51 0 1.02-.2 1.41-.59l7.78-7.78 2.81-2.81c.8-.78.8-2.07 0-2.86zM5.41 20L4 18.59l7.72-7.72 1.47 1.35L5.41 20z\"/>\n",
              "  </svg>\n",
              "      </button>\n",
              "      \n",
              "  <style>\n",
              "    .colab-df-container {\n",
              "      display:flex;\n",
              "      flex-wrap:wrap;\n",
              "      gap: 12px;\n",
              "    }\n",
              "\n",
              "    .colab-df-convert {\n",
              "      background-color: #E8F0FE;\n",
              "      border: none;\n",
              "      border-radius: 50%;\n",
              "      cursor: pointer;\n",
              "      display: none;\n",
              "      fill: #1967D2;\n",
              "      height: 32px;\n",
              "      padding: 0 0 0 0;\n",
              "      width: 32px;\n",
              "    }\n",
              "\n",
              "    .colab-df-convert:hover {\n",
              "      background-color: #E2EBFA;\n",
              "      box-shadow: 0px 1px 2px rgba(60, 64, 67, 0.3), 0px 1px 3px 1px rgba(60, 64, 67, 0.15);\n",
              "      fill: #174EA6;\n",
              "    }\n",
              "\n",
              "    [theme=dark] .colab-df-convert {\n",
              "      background-color: #3B4455;\n",
              "      fill: #D2E3FC;\n",
              "    }\n",
              "\n",
              "    [theme=dark] .colab-df-convert:hover {\n",
              "      background-color: #434B5C;\n",
              "      box-shadow: 0px 1px 3px 1px rgba(0, 0, 0, 0.15);\n",
              "      filter: drop-shadow(0px 1px 2px rgba(0, 0, 0, 0.3));\n",
              "      fill: #FFFFFF;\n",
              "    }\n",
              "  </style>\n",
              "\n",
              "      <script>\n",
              "        const buttonEl =\n",
              "          document.querySelector('#df-9c3d4399-f0e3-4eb3-bc48-188a36e238d6 button.colab-df-convert');\n",
              "        buttonEl.style.display =\n",
              "          google.colab.kernel.accessAllowed ? 'block' : 'none';\n",
              "\n",
              "        async function convertToInteractive(key) {\n",
              "          const element = document.querySelector('#df-9c3d4399-f0e3-4eb3-bc48-188a36e238d6');\n",
              "          const dataTable =\n",
              "            await google.colab.kernel.invokeFunction('convertToInteractive',\n",
              "                                                     [key], {});\n",
              "          if (!dataTable) return;\n",
              "\n",
              "          const docLinkHtml = 'Like what you see? Visit the ' +\n",
              "            '<a target=\"_blank\" href=https://colab.research.google.com/notebooks/data_table.ipynb>data table notebook</a>'\n",
              "            + ' to learn more about interactive tables.';\n",
              "          element.innerHTML = '';\n",
              "          dataTable['output_type'] = 'display_data';\n",
              "          await google.colab.output.renderOutput(dataTable, element);\n",
              "          const docLink = document.createElement('div');\n",
              "          docLink.innerHTML = docLinkHtml;\n",
              "          element.appendChild(docLink);\n",
              "        }\n",
              "      </script>\n",
              "    </div>\n",
              "  </div>\n",
              "  "
            ]
          },
          "metadata": {},
          "execution_count": 55
        }
      ]
    },
    {
      "cell_type": "code",
      "source": [
        "train_seqs, test_seqs, train_labels, test_labels = train_test_split(df['sequence'].tolist(), df['label'].tolist(), test_size=0.1)"
      ],
      "metadata": {
        "id": "Ls5njpcu4xAh"
      },
      "execution_count": 56,
      "outputs": []
    },
    {
      "cell_type": "code",
      "source": [
        "class Dataset(torch.utils.data.Dataset):\n",
        "  def __init__(self, seqs, labels):\n",
        "    self.encodes = [get_formal_encode(seq, config) for seq in seqs]\n",
        "    self.labels = [get_formal_label(label, config) for label in labels]\n",
        "  \n",
        "  def __getitem__(self, i):\n",
        "    tensor_encode = {k: torch.tensor(v) for k, v in self.encodes[i].items()}\n",
        "    tensor_label = torch.tensor(self.labels[i])\n",
        "    return tensor_encode, tensor_label\n",
        "  \n",
        "  def __len__(self):\n",
        "    return len(self.encodes)"
      ],
      "metadata": {
        "id": "JNN3XYt_2q_i"
      },
      "execution_count": 57,
      "outputs": []
    },
    {
      "cell_type": "code",
      "source": [
        "train_dataset = Dataset(train_seqs, train_labels)\n",
        "test_dataset = Dataset(test_seqs, test_labels)"
      ],
      "metadata": {
        "id": "7hYtEUs28WyZ"
      },
      "execution_count": 58,
      "outputs": []
    },
    {
      "cell_type": "markdown",
      "source": [
        "# Test"
      ],
      "metadata": {
        "id": "t_GYTp-KD-AJ"
      }
    },
    {
      "cell_type": "code",
      "source": [
        "model.predict(\"Быть или не быть?\")"
      ],
      "metadata": {
        "colab": {
          "base_uri": "https://localhost:8080/"
        },
        "id": "rCi1iURyEHxX",
        "outputId": "5d362f50-8d65-4735-dad5-24ca0822fcb8"
      },
      "execution_count": 59,
      "outputs": [
        {
          "output_type": "execute_result",
          "data": {
            "text/plain": [
              "tensor([[0., 0., 0., 0., 0., 0.],\n",
              "        [0., 0., 0., 0., 0., 0.],\n",
              "        [0., 0., 0., 0., 0., 0.],\n",
              "        ...,\n",
              "        [0., 0., 0., 0., 0., 0.],\n",
              "        [0., 0., 0., 0., 0., 0.],\n",
              "        [0., 0., 0., 0., 0., 0.]], grad_fn=<AddmmBackward0>)"
            ]
          },
          "metadata": {},
          "execution_count": 59
        }
      ]
    }
  ]
}